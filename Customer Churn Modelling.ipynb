{
 "cells": [
  {
   "cell_type": "markdown",
   "id": "91da5404",
   "metadata": {},
   "source": [
    "# Data Preprocessing"
   ]
  },
  {
   "cell_type": "markdown",
   "id": "1adca6c8",
   "metadata": {},
   "source": [
    "## Importing Libraries"
   ]
  },
  {
   "cell_type": "code",
   "execution_count": 1,
   "id": "e4575a82",
   "metadata": {},
   "outputs": [],
   "source": [
    "import numpy as np\n",
    "import pandas as pd\n",
    "import matplotlib.pyplot as plt\n",
    "%matplotlib inline\n",
    "import seaborn as sns\n",
    "\n",
    "from sklearn.model_selection import train_test_split\n",
    "from sklearn.preprocessing import StandardScaler\n",
    "from sklearn.metrics import confusion_matrix\n",
    "from sklearn.metrics import accuracy_score\n",
    "\n",
    "\n",
    "import keras\n",
    "from keras.models import Sequential\n",
    "from keras.layers import Dense\n",
    "from keras.layers import LeakyReLU, PReLU, ELU\n",
    "from keras.layers import Dropout"
   ]
  },
  {
   "cell_type": "markdown",
   "id": "a0d45d2c",
   "metadata": {},
   "source": [
    "## Loading the Customer Dataset"
   ]
  },
  {
   "cell_type": "code",
   "execution_count": 2,
   "id": "3877acf6",
   "metadata": {},
   "outputs": [
    {
     "data": {
      "text/html": [
       "<div>\n",
       "<style scoped>\n",
       "    .dataframe tbody tr th:only-of-type {\n",
       "        vertical-align: middle;\n",
       "    }\n",
       "\n",
       "    .dataframe tbody tr th {\n",
       "        vertical-align: top;\n",
       "    }\n",
       "\n",
       "    .dataframe thead th {\n",
       "        text-align: right;\n",
       "    }\n",
       "</style>\n",
       "<table border=\"1\" class=\"dataframe\">\n",
       "  <thead>\n",
       "    <tr style=\"text-align: right;\">\n",
       "      <th></th>\n",
       "      <th>RowNumber</th>\n",
       "      <th>CustomerId</th>\n",
       "      <th>Surname</th>\n",
       "      <th>CreditScore</th>\n",
       "      <th>Geography</th>\n",
       "      <th>Gender</th>\n",
       "      <th>Age</th>\n",
       "      <th>Tenure</th>\n",
       "      <th>Balance</th>\n",
       "      <th>NumOfProducts</th>\n",
       "      <th>HasCrCard</th>\n",
       "      <th>IsActiveMember</th>\n",
       "      <th>EstimatedSalary</th>\n",
       "      <th>Exited</th>\n",
       "    </tr>\n",
       "  </thead>\n",
       "  <tbody>\n",
       "    <tr>\n",
       "      <th>0</th>\n",
       "      <td>1</td>\n",
       "      <td>15634602</td>\n",
       "      <td>Hargrave</td>\n",
       "      <td>619</td>\n",
       "      <td>France</td>\n",
       "      <td>Female</td>\n",
       "      <td>42</td>\n",
       "      <td>2</td>\n",
       "      <td>0.00</td>\n",
       "      <td>1</td>\n",
       "      <td>1</td>\n",
       "      <td>1</td>\n",
       "      <td>101348.88</td>\n",
       "      <td>1</td>\n",
       "    </tr>\n",
       "    <tr>\n",
       "      <th>1</th>\n",
       "      <td>2</td>\n",
       "      <td>15647311</td>\n",
       "      <td>Hill</td>\n",
       "      <td>608</td>\n",
       "      <td>Spain</td>\n",
       "      <td>Female</td>\n",
       "      <td>41</td>\n",
       "      <td>1</td>\n",
       "      <td>83807.86</td>\n",
       "      <td>1</td>\n",
       "      <td>0</td>\n",
       "      <td>1</td>\n",
       "      <td>112542.58</td>\n",
       "      <td>0</td>\n",
       "    </tr>\n",
       "    <tr>\n",
       "      <th>2</th>\n",
       "      <td>3</td>\n",
       "      <td>15619304</td>\n",
       "      <td>Onio</td>\n",
       "      <td>502</td>\n",
       "      <td>France</td>\n",
       "      <td>Female</td>\n",
       "      <td>42</td>\n",
       "      <td>8</td>\n",
       "      <td>159660.80</td>\n",
       "      <td>3</td>\n",
       "      <td>1</td>\n",
       "      <td>0</td>\n",
       "      <td>113931.57</td>\n",
       "      <td>1</td>\n",
       "    </tr>\n",
       "    <tr>\n",
       "      <th>3</th>\n",
       "      <td>4</td>\n",
       "      <td>15701354</td>\n",
       "      <td>Boni</td>\n",
       "      <td>699</td>\n",
       "      <td>France</td>\n",
       "      <td>Female</td>\n",
       "      <td>39</td>\n",
       "      <td>1</td>\n",
       "      <td>0.00</td>\n",
       "      <td>2</td>\n",
       "      <td>0</td>\n",
       "      <td>0</td>\n",
       "      <td>93826.63</td>\n",
       "      <td>0</td>\n",
       "    </tr>\n",
       "    <tr>\n",
       "      <th>4</th>\n",
       "      <td>5</td>\n",
       "      <td>15737888</td>\n",
       "      <td>Mitchell</td>\n",
       "      <td>850</td>\n",
       "      <td>Spain</td>\n",
       "      <td>Female</td>\n",
       "      <td>43</td>\n",
       "      <td>2</td>\n",
       "      <td>125510.82</td>\n",
       "      <td>1</td>\n",
       "      <td>1</td>\n",
       "      <td>1</td>\n",
       "      <td>79084.10</td>\n",
       "      <td>0</td>\n",
       "    </tr>\n",
       "  </tbody>\n",
       "</table>\n",
       "</div>"
      ],
      "text/plain": [
       "   RowNumber  CustomerId   Surname  CreditScore Geography  Gender  Age  \\\n",
       "0          1    15634602  Hargrave          619    France  Female   42   \n",
       "1          2    15647311      Hill          608     Spain  Female   41   \n",
       "2          3    15619304      Onio          502    France  Female   42   \n",
       "3          4    15701354      Boni          699    France  Female   39   \n",
       "4          5    15737888  Mitchell          850     Spain  Female   43   \n",
       "\n",
       "   Tenure    Balance  NumOfProducts  HasCrCard  IsActiveMember  \\\n",
       "0       2       0.00              1          1               1   \n",
       "1       1   83807.86              1          0               1   \n",
       "2       8  159660.80              3          1               0   \n",
       "3       1       0.00              2          0               0   \n",
       "4       2  125510.82              1          1               1   \n",
       "\n",
       "   EstimatedSalary  Exited  \n",
       "0        101348.88       1  \n",
       "1        112542.58       0  \n",
       "2        113931.57       1  \n",
       "3         93826.63       0  \n",
       "4         79084.10       0  "
      ]
     },
     "execution_count": 2,
     "metadata": {},
     "output_type": "execute_result"
    }
   ],
   "source": [
    "customer_df = pd.read_csv(\"churn_modelling.csv\")\n",
    "customer_df.head()"
   ]
  },
  {
   "cell_type": "markdown",
   "id": "a05971ab",
   "metadata": {},
   "source": [
    "## Separating dependent and independent features"
   ]
  },
  {
   "cell_type": "code",
   "execution_count": 3,
   "id": "80850a63",
   "metadata": {},
   "outputs": [],
   "source": [
    "X = customer_df.iloc[:, 3:13]\n",
    "y = customer_df.iloc[:, 13]"
   ]
  },
  {
   "cell_type": "code",
   "execution_count": 4,
   "id": "6425ccf3",
   "metadata": {},
   "outputs": [
    {
     "data": {
      "text/html": [
       "<div>\n",
       "<style scoped>\n",
       "    .dataframe tbody tr th:only-of-type {\n",
       "        vertical-align: middle;\n",
       "    }\n",
       "\n",
       "    .dataframe tbody tr th {\n",
       "        vertical-align: top;\n",
       "    }\n",
       "\n",
       "    .dataframe thead th {\n",
       "        text-align: right;\n",
       "    }\n",
       "</style>\n",
       "<table border=\"1\" class=\"dataframe\">\n",
       "  <thead>\n",
       "    <tr style=\"text-align: right;\">\n",
       "      <th></th>\n",
       "      <th>CreditScore</th>\n",
       "      <th>Geography</th>\n",
       "      <th>Gender</th>\n",
       "      <th>Age</th>\n",
       "      <th>Tenure</th>\n",
       "      <th>Balance</th>\n",
       "      <th>NumOfProducts</th>\n",
       "      <th>HasCrCard</th>\n",
       "      <th>IsActiveMember</th>\n",
       "      <th>EstimatedSalary</th>\n",
       "    </tr>\n",
       "  </thead>\n",
       "  <tbody>\n",
       "    <tr>\n",
       "      <th>0</th>\n",
       "      <td>619</td>\n",
       "      <td>France</td>\n",
       "      <td>Female</td>\n",
       "      <td>42</td>\n",
       "      <td>2</td>\n",
       "      <td>0.00</td>\n",
       "      <td>1</td>\n",
       "      <td>1</td>\n",
       "      <td>1</td>\n",
       "      <td>101348.88</td>\n",
       "    </tr>\n",
       "    <tr>\n",
       "      <th>1</th>\n",
       "      <td>608</td>\n",
       "      <td>Spain</td>\n",
       "      <td>Female</td>\n",
       "      <td>41</td>\n",
       "      <td>1</td>\n",
       "      <td>83807.86</td>\n",
       "      <td>1</td>\n",
       "      <td>0</td>\n",
       "      <td>1</td>\n",
       "      <td>112542.58</td>\n",
       "    </tr>\n",
       "    <tr>\n",
       "      <th>2</th>\n",
       "      <td>502</td>\n",
       "      <td>France</td>\n",
       "      <td>Female</td>\n",
       "      <td>42</td>\n",
       "      <td>8</td>\n",
       "      <td>159660.80</td>\n",
       "      <td>3</td>\n",
       "      <td>1</td>\n",
       "      <td>0</td>\n",
       "      <td>113931.57</td>\n",
       "    </tr>\n",
       "    <tr>\n",
       "      <th>3</th>\n",
       "      <td>699</td>\n",
       "      <td>France</td>\n",
       "      <td>Female</td>\n",
       "      <td>39</td>\n",
       "      <td>1</td>\n",
       "      <td>0.00</td>\n",
       "      <td>2</td>\n",
       "      <td>0</td>\n",
       "      <td>0</td>\n",
       "      <td>93826.63</td>\n",
       "    </tr>\n",
       "    <tr>\n",
       "      <th>4</th>\n",
       "      <td>850</td>\n",
       "      <td>Spain</td>\n",
       "      <td>Female</td>\n",
       "      <td>43</td>\n",
       "      <td>2</td>\n",
       "      <td>125510.82</td>\n",
       "      <td>1</td>\n",
       "      <td>1</td>\n",
       "      <td>1</td>\n",
       "      <td>79084.10</td>\n",
       "    </tr>\n",
       "  </tbody>\n",
       "</table>\n",
       "</div>"
      ],
      "text/plain": [
       "   CreditScore Geography  Gender  Age  Tenure    Balance  NumOfProducts  \\\n",
       "0          619    France  Female   42       2       0.00              1   \n",
       "1          608     Spain  Female   41       1   83807.86              1   \n",
       "2          502    France  Female   42       8  159660.80              3   \n",
       "3          699    France  Female   39       1       0.00              2   \n",
       "4          850     Spain  Female   43       2  125510.82              1   \n",
       "\n",
       "   HasCrCard  IsActiveMember  EstimatedSalary  \n",
       "0          1               1        101348.88  \n",
       "1          0               1        112542.58  \n",
       "2          1               0        113931.57  \n",
       "3          0               0         93826.63  \n",
       "4          1               1         79084.10  "
      ]
     },
     "execution_count": 4,
     "metadata": {},
     "output_type": "execute_result"
    }
   ],
   "source": [
    "X.head()"
   ]
  },
  {
   "cell_type": "code",
   "execution_count": 5,
   "id": "5f9cbfe3",
   "metadata": {},
   "outputs": [
    {
     "data": {
      "text/plain": [
       "0       1\n",
       "1       0\n",
       "2       1\n",
       "3       0\n",
       "4       0\n",
       "       ..\n",
       "9995    0\n",
       "9996    0\n",
       "9997    1\n",
       "9998    1\n",
       "9999    0\n",
       "Name: Exited, Length: 10000, dtype: int64"
      ]
     },
     "execution_count": 5,
     "metadata": {},
     "output_type": "execute_result"
    }
   ],
   "source": [
    "y"
   ]
  },
  {
   "cell_type": "markdown",
   "id": "ca30168a",
   "metadata": {},
   "source": [
    "### Shape of the data"
   ]
  },
  {
   "cell_type": "code",
   "execution_count": 6,
   "id": "0910998c",
   "metadata": {},
   "outputs": [
    {
     "data": {
      "text/plain": [
       "((10000, 10), (10000,))"
      ]
     },
     "execution_count": 6,
     "metadata": {},
     "output_type": "execute_result"
    }
   ],
   "source": [
    "X.shape, y.shape"
   ]
  },
  {
   "cell_type": "markdown",
   "id": "56e9a137",
   "metadata": {},
   "source": [
    "## Creating Dummy Variables"
   ]
  },
  {
   "cell_type": "code",
   "execution_count": 7,
   "id": "c534bde6",
   "metadata": {},
   "outputs": [],
   "source": [
    "geography = pd.get_dummies(customer_df[\"Geography\"], drop_first=True)\n",
    "gender = pd.get_dummies(customer_df[\"Gender\"], drop_first=True)"
   ]
  },
  {
   "cell_type": "markdown",
   "id": "f6d0d831",
   "metadata": {},
   "source": [
    "### Concatenating the data"
   ]
  },
  {
   "cell_type": "code",
   "execution_count": 8,
   "id": "0f970e8c",
   "metadata": {},
   "outputs": [
    {
     "data": {
      "text/html": [
       "<div>\n",
       "<style scoped>\n",
       "    .dataframe tbody tr th:only-of-type {\n",
       "        vertical-align: middle;\n",
       "    }\n",
       "\n",
       "    .dataframe tbody tr th {\n",
       "        vertical-align: top;\n",
       "    }\n",
       "\n",
       "    .dataframe thead th {\n",
       "        text-align: right;\n",
       "    }\n",
       "</style>\n",
       "<table border=\"1\" class=\"dataframe\">\n",
       "  <thead>\n",
       "    <tr style=\"text-align: right;\">\n",
       "      <th></th>\n",
       "      <th>CreditScore</th>\n",
       "      <th>Geography</th>\n",
       "      <th>Gender</th>\n",
       "      <th>Age</th>\n",
       "      <th>Tenure</th>\n",
       "      <th>Balance</th>\n",
       "      <th>NumOfProducts</th>\n",
       "      <th>HasCrCard</th>\n",
       "      <th>IsActiveMember</th>\n",
       "      <th>EstimatedSalary</th>\n",
       "      <th>Germany</th>\n",
       "      <th>Spain</th>\n",
       "      <th>Male</th>\n",
       "    </tr>\n",
       "  </thead>\n",
       "  <tbody>\n",
       "    <tr>\n",
       "      <th>0</th>\n",
       "      <td>619</td>\n",
       "      <td>France</td>\n",
       "      <td>Female</td>\n",
       "      <td>42</td>\n",
       "      <td>2</td>\n",
       "      <td>0.00</td>\n",
       "      <td>1</td>\n",
       "      <td>1</td>\n",
       "      <td>1</td>\n",
       "      <td>101348.88</td>\n",
       "      <td>0</td>\n",
       "      <td>0</td>\n",
       "      <td>0</td>\n",
       "    </tr>\n",
       "    <tr>\n",
       "      <th>1</th>\n",
       "      <td>608</td>\n",
       "      <td>Spain</td>\n",
       "      <td>Female</td>\n",
       "      <td>41</td>\n",
       "      <td>1</td>\n",
       "      <td>83807.86</td>\n",
       "      <td>1</td>\n",
       "      <td>0</td>\n",
       "      <td>1</td>\n",
       "      <td>112542.58</td>\n",
       "      <td>0</td>\n",
       "      <td>1</td>\n",
       "      <td>0</td>\n",
       "    </tr>\n",
       "    <tr>\n",
       "      <th>2</th>\n",
       "      <td>502</td>\n",
       "      <td>France</td>\n",
       "      <td>Female</td>\n",
       "      <td>42</td>\n",
       "      <td>8</td>\n",
       "      <td>159660.80</td>\n",
       "      <td>3</td>\n",
       "      <td>1</td>\n",
       "      <td>0</td>\n",
       "      <td>113931.57</td>\n",
       "      <td>0</td>\n",
       "      <td>0</td>\n",
       "      <td>0</td>\n",
       "    </tr>\n",
       "    <tr>\n",
       "      <th>3</th>\n",
       "      <td>699</td>\n",
       "      <td>France</td>\n",
       "      <td>Female</td>\n",
       "      <td>39</td>\n",
       "      <td>1</td>\n",
       "      <td>0.00</td>\n",
       "      <td>2</td>\n",
       "      <td>0</td>\n",
       "      <td>0</td>\n",
       "      <td>93826.63</td>\n",
       "      <td>0</td>\n",
       "      <td>0</td>\n",
       "      <td>0</td>\n",
       "    </tr>\n",
       "    <tr>\n",
       "      <th>4</th>\n",
       "      <td>850</td>\n",
       "      <td>Spain</td>\n",
       "      <td>Female</td>\n",
       "      <td>43</td>\n",
       "      <td>2</td>\n",
       "      <td>125510.82</td>\n",
       "      <td>1</td>\n",
       "      <td>1</td>\n",
       "      <td>1</td>\n",
       "      <td>79084.10</td>\n",
       "      <td>0</td>\n",
       "      <td>1</td>\n",
       "      <td>0</td>\n",
       "    </tr>\n",
       "  </tbody>\n",
       "</table>\n",
       "</div>"
      ],
      "text/plain": [
       "   CreditScore Geography  Gender  Age  Tenure    Balance  NumOfProducts  \\\n",
       "0          619    France  Female   42       2       0.00              1   \n",
       "1          608     Spain  Female   41       1   83807.86              1   \n",
       "2          502    France  Female   42       8  159660.80              3   \n",
       "3          699    France  Female   39       1       0.00              2   \n",
       "4          850     Spain  Female   43       2  125510.82              1   \n",
       "\n",
       "   HasCrCard  IsActiveMember  EstimatedSalary  Germany  Spain  Male  \n",
       "0          1               1        101348.88        0      0     0  \n",
       "1          0               1        112542.58        0      1     0  \n",
       "2          1               0        113931.57        0      0     0  \n",
       "3          0               0         93826.63        0      0     0  \n",
       "4          1               1         79084.10        0      1     0  "
      ]
     },
     "execution_count": 8,
     "metadata": {},
     "output_type": "execute_result"
    }
   ],
   "source": [
    "X = pd.concat([X, geography, gender], axis=1)\n",
    "X.head()"
   ]
  },
  {
   "cell_type": "markdown",
   "id": "6b213508",
   "metadata": {},
   "source": [
    "## Dropping unnecessary columns"
   ]
  },
  {
   "cell_type": "code",
   "execution_count": 9,
   "id": "c9fd4adf",
   "metadata": {},
   "outputs": [],
   "source": [
    "X = X.drop(columns=[\"Geography\", \"Gender\"])"
   ]
  },
  {
   "cell_type": "code",
   "execution_count": 10,
   "id": "b402b468",
   "metadata": {},
   "outputs": [
    {
     "data": {
      "text/html": [
       "<div>\n",
       "<style scoped>\n",
       "    .dataframe tbody tr th:only-of-type {\n",
       "        vertical-align: middle;\n",
       "    }\n",
       "\n",
       "    .dataframe tbody tr th {\n",
       "        vertical-align: top;\n",
       "    }\n",
       "\n",
       "    .dataframe thead th {\n",
       "        text-align: right;\n",
       "    }\n",
       "</style>\n",
       "<table border=\"1\" class=\"dataframe\">\n",
       "  <thead>\n",
       "    <tr style=\"text-align: right;\">\n",
       "      <th></th>\n",
       "      <th>CreditScore</th>\n",
       "      <th>Age</th>\n",
       "      <th>Tenure</th>\n",
       "      <th>Balance</th>\n",
       "      <th>NumOfProducts</th>\n",
       "      <th>HasCrCard</th>\n",
       "      <th>IsActiveMember</th>\n",
       "      <th>EstimatedSalary</th>\n",
       "      <th>Germany</th>\n",
       "      <th>Spain</th>\n",
       "      <th>Male</th>\n",
       "    </tr>\n",
       "  </thead>\n",
       "  <tbody>\n",
       "    <tr>\n",
       "      <th>0</th>\n",
       "      <td>619</td>\n",
       "      <td>42</td>\n",
       "      <td>2</td>\n",
       "      <td>0.00</td>\n",
       "      <td>1</td>\n",
       "      <td>1</td>\n",
       "      <td>1</td>\n",
       "      <td>101348.88</td>\n",
       "      <td>0</td>\n",
       "      <td>0</td>\n",
       "      <td>0</td>\n",
       "    </tr>\n",
       "    <tr>\n",
       "      <th>1</th>\n",
       "      <td>608</td>\n",
       "      <td>41</td>\n",
       "      <td>1</td>\n",
       "      <td>83807.86</td>\n",
       "      <td>1</td>\n",
       "      <td>0</td>\n",
       "      <td>1</td>\n",
       "      <td>112542.58</td>\n",
       "      <td>0</td>\n",
       "      <td>1</td>\n",
       "      <td>0</td>\n",
       "    </tr>\n",
       "    <tr>\n",
       "      <th>2</th>\n",
       "      <td>502</td>\n",
       "      <td>42</td>\n",
       "      <td>8</td>\n",
       "      <td>159660.80</td>\n",
       "      <td>3</td>\n",
       "      <td>1</td>\n",
       "      <td>0</td>\n",
       "      <td>113931.57</td>\n",
       "      <td>0</td>\n",
       "      <td>0</td>\n",
       "      <td>0</td>\n",
       "    </tr>\n",
       "    <tr>\n",
       "      <th>3</th>\n",
       "      <td>699</td>\n",
       "      <td>39</td>\n",
       "      <td>1</td>\n",
       "      <td>0.00</td>\n",
       "      <td>2</td>\n",
       "      <td>0</td>\n",
       "      <td>0</td>\n",
       "      <td>93826.63</td>\n",
       "      <td>0</td>\n",
       "      <td>0</td>\n",
       "      <td>0</td>\n",
       "    </tr>\n",
       "    <tr>\n",
       "      <th>4</th>\n",
       "      <td>850</td>\n",
       "      <td>43</td>\n",
       "      <td>2</td>\n",
       "      <td>125510.82</td>\n",
       "      <td>1</td>\n",
       "      <td>1</td>\n",
       "      <td>1</td>\n",
       "      <td>79084.10</td>\n",
       "      <td>0</td>\n",
       "      <td>1</td>\n",
       "      <td>0</td>\n",
       "    </tr>\n",
       "  </tbody>\n",
       "</table>\n",
       "</div>"
      ],
      "text/plain": [
       "   CreditScore  Age  Tenure    Balance  NumOfProducts  HasCrCard  \\\n",
       "0          619   42       2       0.00              1          1   \n",
       "1          608   41       1   83807.86              1          0   \n",
       "2          502   42       8  159660.80              3          1   \n",
       "3          699   39       1       0.00              2          0   \n",
       "4          850   43       2  125510.82              1          1   \n",
       "\n",
       "   IsActiveMember  EstimatedSalary  Germany  Spain  Male  \n",
       "0               1        101348.88        0      0     0  \n",
       "1               1        112542.58        0      1     0  \n",
       "2               0        113931.57        0      0     0  \n",
       "3               0         93826.63        0      0     0  \n",
       "4               1         79084.10        0      1     0  "
      ]
     },
     "execution_count": 10,
     "metadata": {},
     "output_type": "execute_result"
    }
   ],
   "source": [
    "X.head()"
   ]
  },
  {
   "cell_type": "markdown",
   "id": "88130e06",
   "metadata": {},
   "source": [
    "## Splitting the Dataset"
   ]
  },
  {
   "cell_type": "code",
   "execution_count": 11,
   "id": "ca683d00",
   "metadata": {},
   "outputs": [
    {
     "data": {
      "text/plain": [
       "((8000, 11), (2000, 11), (8000,), (2000,))"
      ]
     },
     "execution_count": 11,
     "metadata": {},
     "output_type": "execute_result"
    }
   ],
   "source": [
    "X_train, X_test, y_train, y_test = train_test_split(X, y, test_size=0.2, \n",
    "                                                   random_state = 0)\n",
    "\n",
    "X_train.shape, X_test.shape, y_train.shape, y_test.shape"
   ]
  },
  {
   "cell_type": "markdown",
   "id": "4ac92a7a",
   "metadata": {},
   "source": [
    "## Feature Scaling"
   ]
  },
  {
   "cell_type": "code",
   "execution_count": 12,
   "id": "27a27c62",
   "metadata": {},
   "outputs": [],
   "source": [
    "scaler = StandardScaler()\n",
    "X_train = scaler.fit_transform(X_train)\n",
    "X_test = scaler.transform(X_test)"
   ]
  },
  {
   "cell_type": "markdown",
   "id": "695b9caa",
   "metadata": {},
   "source": [
    "## Creating the ANN"
   ]
  },
  {
   "cell_type": "code",
   "execution_count": 25,
   "id": "d272eb89",
   "metadata": {},
   "outputs": [],
   "source": [
    "model = Sequential()\n",
    "\n",
    "# Adding the first hidden layer and passing inputs \n",
    "model.add(Dense(units = 6, kernel_initializer = \"he_uniform\", activation = \"relu\", input_dim = 11))\n",
    "\n",
    "# Adding second hidden layer\n",
    "model.add(Dense(units = 6, kernel_initializer = \"he_uniform\", activation = \"relu\"))\n",
    "\n",
    "# Adding the output layer\n",
    "model.add(Dense(units = 1, kernel_initializer = \"glorot_uniform\", activation = \"sigmoid\"))"
   ]
  },
  {
   "cell_type": "markdown",
   "id": "621d9b08",
   "metadata": {},
   "source": [
    "## Compiling the ANN"
   ]
  },
  {
   "cell_type": "code",
   "execution_count": 26,
   "id": "434c5452",
   "metadata": {},
   "outputs": [
    {
     "name": "stdout",
     "output_type": "stream",
     "text": [
      "Model: \"sequential\"\n",
      "_________________________________________________________________\n",
      " Layer (type)                Output Shape              Param #   \n",
      "=================================================================\n",
      " dense (Dense)               (None, 6)                 72        \n",
      "                                                                 \n",
      " dense_1 (Dense)             (None, 6)                 42        \n",
      "                                                                 \n",
      " dense_2 (Dense)             (None, 1)                 7         \n",
      "                                                                 \n",
      "=================================================================\n",
      "Total params: 121\n",
      "Trainable params: 121\n",
      "Non-trainable params: 0\n",
      "_________________________________________________________________\n"
     ]
    }
   ],
   "source": [
    "model.summary()"
   ]
  },
  {
   "cell_type": "code",
   "execution_count": 27,
   "id": "03a09132",
   "metadata": {},
   "outputs": [],
   "source": [
    "model.compile(optimizer=\"adam\", \n",
    "              loss=\"binary_crossentropy\", \n",
    "              metrics=[\"accuracy\"])"
   ]
  },
  {
   "cell_type": "markdown",
   "id": "16a22d22",
   "metadata": {},
   "source": [
    "## Training"
   ]
  },
  {
   "cell_type": "code",
   "execution_count": 28,
   "id": "154972d7",
   "metadata": {
    "scrolled": true
   },
   "outputs": [
    {
     "name": "stdout",
     "output_type": "stream",
     "text": [
      "Epoch 1/100\n",
      "536/536 [==============================] - 2s 3ms/step - loss: 0.6287 - accuracy: 0.6807 - val_loss: 0.5210 - val_accuracy: 0.7955\n",
      "Epoch 2/100\n",
      "536/536 [==============================] - 1s 2ms/step - loss: 0.4897 - accuracy: 0.7962 - val_loss: 0.4757 - val_accuracy: 0.7955\n",
      "Epoch 3/100\n",
      "536/536 [==============================] - 1s 2ms/step - loss: 0.4602 - accuracy: 0.7962 - val_loss: 0.4575 - val_accuracy: 0.7955\n",
      "Epoch 4/100\n",
      "536/536 [==============================] - 1s 2ms/step - loss: 0.4450 - accuracy: 0.7975 - val_loss: 0.4455 - val_accuracy: 0.8001\n",
      "Epoch 5/100\n",
      "536/536 [==============================] - 1s 2ms/step - loss: 0.4331 - accuracy: 0.8043 - val_loss: 0.4345 - val_accuracy: 0.8035\n",
      "Epoch 6/100\n",
      "536/536 [==============================] - 1s 2ms/step - loss: 0.4211 - accuracy: 0.8112 - val_loss: 0.4217 - val_accuracy: 0.8069\n",
      "Epoch 7/100\n",
      "536/536 [==============================] - 1s 2ms/step - loss: 0.4057 - accuracy: 0.8147 - val_loss: 0.4067 - val_accuracy: 0.8148\n",
      "Epoch 8/100\n",
      "536/536 [==============================] - 1s 2ms/step - loss: 0.3899 - accuracy: 0.8233 - val_loss: 0.3947 - val_accuracy: 0.8186\n",
      "Epoch 9/100\n",
      "536/536 [==============================] - 1s 2ms/step - loss: 0.3773 - accuracy: 0.8263 - val_loss: 0.3850 - val_accuracy: 0.8289\n",
      "Epoch 10/100\n",
      "536/536 [==============================] - 1s 2ms/step - loss: 0.3682 - accuracy: 0.8330 - val_loss: 0.3788 - val_accuracy: 0.8444\n",
      "Epoch 11/100\n",
      "536/536 [==============================] - 1s 2ms/step - loss: 0.3627 - accuracy: 0.8434 - val_loss: 0.3753 - val_accuracy: 0.8463\n",
      "Epoch 12/100\n",
      "536/536 [==============================] - 1s 2ms/step - loss: 0.3590 - accuracy: 0.8470 - val_loss: 0.3721 - val_accuracy: 0.8489\n",
      "Epoch 13/100\n",
      "536/536 [==============================] - 1s 2ms/step - loss: 0.3557 - accuracy: 0.8483 - val_loss: 0.3700 - val_accuracy: 0.8489\n",
      "Epoch 14/100\n",
      "536/536 [==============================] - 1s 2ms/step - loss: 0.3529 - accuracy: 0.8462 - val_loss: 0.3677 - val_accuracy: 0.8538\n",
      "Epoch 15/100\n",
      "536/536 [==============================] - 1s 2ms/step - loss: 0.3513 - accuracy: 0.8481 - val_loss: 0.3668 - val_accuracy: 0.8516\n",
      "Epoch 16/100\n",
      "536/536 [==============================] - 1s 2ms/step - loss: 0.3494 - accuracy: 0.8507 - val_loss: 0.3650 - val_accuracy: 0.8535\n",
      "Epoch 17/100\n",
      "536/536 [==============================] - 1s 2ms/step - loss: 0.3474 - accuracy: 0.8543 - val_loss: 0.3642 - val_accuracy: 0.8550\n",
      "Epoch 18/100\n",
      "536/536 [==============================] - 1s 2ms/step - loss: 0.3462 - accuracy: 0.8533 - val_loss: 0.3626 - val_accuracy: 0.8546\n",
      "Epoch 19/100\n",
      "536/536 [==============================] - 1s 2ms/step - loss: 0.3444 - accuracy: 0.8561 - val_loss: 0.3615 - val_accuracy: 0.8584\n",
      "Epoch 20/100\n",
      "536/536 [==============================] - 1s 2ms/step - loss: 0.3427 - accuracy: 0.8571 - val_loss: 0.3609 - val_accuracy: 0.8588\n",
      "Epoch 21/100\n",
      "536/536 [==============================] - 1s 2ms/step - loss: 0.3415 - accuracy: 0.8595 - val_loss: 0.3599 - val_accuracy: 0.8588\n",
      "Epoch 22/100\n",
      "536/536 [==============================] - 1s 2ms/step - loss: 0.3408 - accuracy: 0.8572 - val_loss: 0.3592 - val_accuracy: 0.8588\n",
      "Epoch 23/100\n",
      "536/536 [==============================] - 1s 2ms/step - loss: 0.3392 - accuracy: 0.8559 - val_loss: 0.3580 - val_accuracy: 0.8591\n",
      "Epoch 24/100\n",
      "536/536 [==============================] - 1s 2ms/step - loss: 0.3378 - accuracy: 0.8582 - val_loss: 0.3572 - val_accuracy: 0.8622\n",
      "Epoch 25/100\n",
      "536/536 [==============================] - 1s 2ms/step - loss: 0.3366 - accuracy: 0.8572 - val_loss: 0.3573 - val_accuracy: 0.8603\n",
      "Epoch 26/100\n",
      "536/536 [==============================] - 1s 2ms/step - loss: 0.3360 - accuracy: 0.8584 - val_loss: 0.3567 - val_accuracy: 0.8595\n",
      "Epoch 27/100\n",
      "536/536 [==============================] - 1s 2ms/step - loss: 0.3354 - accuracy: 0.8591 - val_loss: 0.3569 - val_accuracy: 0.8591\n",
      "Epoch 28/100\n",
      "536/536 [==============================] - 1s 2ms/step - loss: 0.3345 - accuracy: 0.8610 - val_loss: 0.3583 - val_accuracy: 0.8535\n",
      "Epoch 29/100\n",
      "536/536 [==============================] - 1s 2ms/step - loss: 0.3343 - accuracy: 0.8591 - val_loss: 0.3567 - val_accuracy: 0.8561\n",
      "Epoch 30/100\n",
      "536/536 [==============================] - 1s 2ms/step - loss: 0.3328 - accuracy: 0.8619 - val_loss: 0.3572 - val_accuracy: 0.8580\n",
      "Epoch 31/100\n",
      "536/536 [==============================] - 1s 2ms/step - loss: 0.3331 - accuracy: 0.8589 - val_loss: 0.3558 - val_accuracy: 0.8595\n",
      "Epoch 32/100\n",
      "536/536 [==============================] - 1s 2ms/step - loss: 0.3327 - accuracy: 0.8580 - val_loss: 0.3557 - val_accuracy: 0.8569\n",
      "Epoch 33/100\n",
      "536/536 [==============================] - 1s 2ms/step - loss: 0.3325 - accuracy: 0.8593 - val_loss: 0.3545 - val_accuracy: 0.8607\n",
      "Epoch 34/100\n",
      "536/536 [==============================] - 1s 2ms/step - loss: 0.3315 - accuracy: 0.8630 - val_loss: 0.3545 - val_accuracy: 0.8618\n",
      "Epoch 35/100\n",
      "536/536 [==============================] - 1s 2ms/step - loss: 0.3307 - accuracy: 0.8630 - val_loss: 0.3549 - val_accuracy: 0.8603\n",
      "Epoch 36/100\n",
      "536/536 [==============================] - 1s 2ms/step - loss: 0.3301 - accuracy: 0.8610 - val_loss: 0.3546 - val_accuracy: 0.8576\n",
      "Epoch 37/100\n",
      "536/536 [==============================] - 1s 2ms/step - loss: 0.3299 - accuracy: 0.8625 - val_loss: 0.3543 - val_accuracy: 0.8622\n",
      "Epoch 38/100\n",
      "536/536 [==============================] - 1s 2ms/step - loss: 0.3292 - accuracy: 0.8619 - val_loss: 0.3538 - val_accuracy: 0.8599\n",
      "Epoch 39/100\n",
      "536/536 [==============================] - 1s 2ms/step - loss: 0.3294 - accuracy: 0.8643 - val_loss: 0.3534 - val_accuracy: 0.8614\n",
      "Epoch 40/100\n",
      "536/536 [==============================] - 1s 2ms/step - loss: 0.3284 - accuracy: 0.8612 - val_loss: 0.3543 - val_accuracy: 0.8569\n",
      "Epoch 41/100\n",
      "536/536 [==============================] - 1s 2ms/step - loss: 0.3279 - accuracy: 0.8621 - val_loss: 0.3536 - val_accuracy: 0.8603\n",
      "Epoch 42/100\n",
      "536/536 [==============================] - 1s 2ms/step - loss: 0.3277 - accuracy: 0.8645 - val_loss: 0.3532 - val_accuracy: 0.8591\n",
      "Epoch 43/100\n",
      "536/536 [==============================] - 1s 2ms/step - loss: 0.3278 - accuracy: 0.8634 - val_loss: 0.3528 - val_accuracy: 0.8603\n",
      "Epoch 44/100\n",
      "536/536 [==============================] - 1s 2ms/step - loss: 0.3276 - accuracy: 0.8655 - val_loss: 0.3528 - val_accuracy: 0.8588\n",
      "Epoch 45/100\n",
      "536/536 [==============================] - 1s 2ms/step - loss: 0.3272 - accuracy: 0.8632 - val_loss: 0.3528 - val_accuracy: 0.8595\n",
      "Epoch 46/100\n",
      "536/536 [==============================] - 1s 2ms/step - loss: 0.3264 - accuracy: 0.8653 - val_loss: 0.3529 - val_accuracy: 0.8569\n",
      "Epoch 47/100\n",
      "536/536 [==============================] - 1s 2ms/step - loss: 0.3266 - accuracy: 0.8630 - val_loss: 0.3530 - val_accuracy: 0.8573\n",
      "Epoch 48/100\n",
      "536/536 [==============================] - 1s 2ms/step - loss: 0.3266 - accuracy: 0.8621 - val_loss: 0.3535 - val_accuracy: 0.8573\n",
      "Epoch 49/100\n",
      "536/536 [==============================] - 1s 2ms/step - loss: 0.3260 - accuracy: 0.8638 - val_loss: 0.3530 - val_accuracy: 0.8618\n",
      "Epoch 50/100\n",
      "536/536 [==============================] - 1s 2ms/step - loss: 0.3263 - accuracy: 0.8656 - val_loss: 0.3528 - val_accuracy: 0.8595\n",
      "Epoch 51/100\n",
      "536/536 [==============================] - 1s 2ms/step - loss: 0.3262 - accuracy: 0.8642 - val_loss: 0.3524 - val_accuracy: 0.8595\n",
      "Epoch 52/100\n",
      "536/536 [==============================] - 1s 2ms/step - loss: 0.3262 - accuracy: 0.8653 - val_loss: 0.3520 - val_accuracy: 0.8614\n",
      "Epoch 53/100\n",
      "536/536 [==============================] - 1s 2ms/step - loss: 0.3262 - accuracy: 0.8643 - val_loss: 0.3534 - val_accuracy: 0.8576\n",
      "Epoch 54/100\n",
      "536/536 [==============================] - 1s 2ms/step - loss: 0.3260 - accuracy: 0.8647 - val_loss: 0.3521 - val_accuracy: 0.8610\n",
      "Epoch 55/100\n",
      "536/536 [==============================] - 1s 2ms/step - loss: 0.3258 - accuracy: 0.8655 - val_loss: 0.3524 - val_accuracy: 0.8610\n",
      "Epoch 56/100\n",
      "536/536 [==============================] - 1s 2ms/step - loss: 0.3257 - accuracy: 0.8642 - val_loss: 0.3533 - val_accuracy: 0.8573\n",
      "Epoch 57/100\n",
      "536/536 [==============================] - 1s 2ms/step - loss: 0.3255 - accuracy: 0.8656 - val_loss: 0.3532 - val_accuracy: 0.8584\n"
     ]
    },
    {
     "name": "stdout",
     "output_type": "stream",
     "text": [
      "Epoch 58/100\n",
      "536/536 [==============================] - 1s 2ms/step - loss: 0.3255 - accuracy: 0.8638 - val_loss: 0.3522 - val_accuracy: 0.8614\n",
      "Epoch 59/100\n",
      "536/536 [==============================] - 1s 2ms/step - loss: 0.3251 - accuracy: 0.8658 - val_loss: 0.3518 - val_accuracy: 0.8614\n",
      "Epoch 60/100\n",
      "536/536 [==============================] - 1s 2ms/step - loss: 0.3257 - accuracy: 0.8666 - val_loss: 0.3528 - val_accuracy: 0.8599\n",
      "Epoch 61/100\n",
      "536/536 [==============================] - 1s 2ms/step - loss: 0.3249 - accuracy: 0.8660 - val_loss: 0.3528 - val_accuracy: 0.8576\n",
      "Epoch 62/100\n",
      "536/536 [==============================] - 1s 2ms/step - loss: 0.3249 - accuracy: 0.8634 - val_loss: 0.3519 - val_accuracy: 0.8607\n",
      "Epoch 63/100\n",
      "536/536 [==============================] - 1s 2ms/step - loss: 0.3251 - accuracy: 0.8636 - val_loss: 0.3514 - val_accuracy: 0.8603\n",
      "Epoch 64/100\n",
      "536/536 [==============================] - 1s 2ms/step - loss: 0.3248 - accuracy: 0.8662 - val_loss: 0.3541 - val_accuracy: 0.8550\n",
      "Epoch 65/100\n",
      "536/536 [==============================] - 1s 2ms/step - loss: 0.3252 - accuracy: 0.8656 - val_loss: 0.3512 - val_accuracy: 0.8610\n",
      "Epoch 66/100\n",
      "536/536 [==============================] - 1s 2ms/step - loss: 0.3246 - accuracy: 0.8660 - val_loss: 0.3520 - val_accuracy: 0.8614\n",
      "Epoch 67/100\n",
      "536/536 [==============================] - 1s 2ms/step - loss: 0.3251 - accuracy: 0.8655 - val_loss: 0.3525 - val_accuracy: 0.8576\n",
      "Epoch 68/100\n",
      "536/536 [==============================] - 1s 2ms/step - loss: 0.3245 - accuracy: 0.8647 - val_loss: 0.3525 - val_accuracy: 0.8607\n",
      "Epoch 69/100\n",
      "536/536 [==============================] - 1s 2ms/step - loss: 0.3245 - accuracy: 0.8645 - val_loss: 0.3509 - val_accuracy: 0.8610\n",
      "Epoch 70/100\n",
      "536/536 [==============================] - 1s 2ms/step - loss: 0.3242 - accuracy: 0.8642 - val_loss: 0.3521 - val_accuracy: 0.8607\n",
      "Epoch 71/100\n",
      "536/536 [==============================] - 1s 2ms/step - loss: 0.3241 - accuracy: 0.8662 - val_loss: 0.3530 - val_accuracy: 0.8573\n",
      "Epoch 72/100\n",
      "536/536 [==============================] - 1s 2ms/step - loss: 0.3240 - accuracy: 0.8642 - val_loss: 0.3532 - val_accuracy: 0.8576\n",
      "Epoch 73/100\n",
      "536/536 [==============================] - 1s 2ms/step - loss: 0.3245 - accuracy: 0.8645 - val_loss: 0.3519 - val_accuracy: 0.8618\n",
      "Epoch 74/100\n",
      "536/536 [==============================] - 1s 2ms/step - loss: 0.3239 - accuracy: 0.8647 - val_loss: 0.3524 - val_accuracy: 0.8588\n",
      "Epoch 75/100\n",
      "536/536 [==============================] - 1s 2ms/step - loss: 0.3237 - accuracy: 0.8671 - val_loss: 0.3532 - val_accuracy: 0.8565\n",
      "Epoch 76/100\n",
      "536/536 [==============================] - 1s 2ms/step - loss: 0.3240 - accuracy: 0.8647 - val_loss: 0.3518 - val_accuracy: 0.8595\n",
      "Epoch 77/100\n",
      "536/536 [==============================] - 1s 2ms/step - loss: 0.3242 - accuracy: 0.8647 - val_loss: 0.3518 - val_accuracy: 0.8607\n",
      "Epoch 78/100\n",
      "536/536 [==============================] - 1s 2ms/step - loss: 0.3234 - accuracy: 0.8647 - val_loss: 0.3537 - val_accuracy: 0.8573\n",
      "Epoch 79/100\n",
      "536/536 [==============================] - 1s 2ms/step - loss: 0.3235 - accuracy: 0.8666 - val_loss: 0.3516 - val_accuracy: 0.8569\n",
      "Epoch 80/100\n",
      "536/536 [==============================] - 1s 2ms/step - loss: 0.3237 - accuracy: 0.8662 - val_loss: 0.3514 - val_accuracy: 0.8614\n",
      "Epoch 81/100\n",
      "536/536 [==============================] - 1s 2ms/step - loss: 0.3237 - accuracy: 0.8643 - val_loss: 0.3511 - val_accuracy: 0.8618\n",
      "Epoch 82/100\n",
      "536/536 [==============================] - 1s 2ms/step - loss: 0.3235 - accuracy: 0.8681 - val_loss: 0.3516 - val_accuracy: 0.8595\n",
      "Epoch 83/100\n",
      "536/536 [==============================] - 1s 2ms/step - loss: 0.3234 - accuracy: 0.8660 - val_loss: 0.3523 - val_accuracy: 0.8573\n",
      "Epoch 84/100\n",
      "536/536 [==============================] - 1s 2ms/step - loss: 0.3237 - accuracy: 0.8658 - val_loss: 0.3506 - val_accuracy: 0.8599\n",
      "Epoch 85/100\n",
      "536/536 [==============================] - 1s 2ms/step - loss: 0.3230 - accuracy: 0.8681 - val_loss: 0.3564 - val_accuracy: 0.8523\n",
      "Epoch 86/100\n",
      "536/536 [==============================] - 1s 2ms/step - loss: 0.3233 - accuracy: 0.8649 - val_loss: 0.3514 - val_accuracy: 0.8591\n",
      "Epoch 87/100\n",
      "536/536 [==============================] - 1s 2ms/step - loss: 0.3228 - accuracy: 0.8645 - val_loss: 0.3533 - val_accuracy: 0.8576\n",
      "Epoch 88/100\n",
      "536/536 [==============================] - 1s 2ms/step - loss: 0.3234 - accuracy: 0.8671 - val_loss: 0.3526 - val_accuracy: 0.8584\n",
      "Epoch 89/100\n",
      "536/536 [==============================] - 1s 2ms/step - loss: 0.3232 - accuracy: 0.8679 - val_loss: 0.3514 - val_accuracy: 0.8599\n",
      "Epoch 90/100\n",
      "536/536 [==============================] - 1s 2ms/step - loss: 0.3230 - accuracy: 0.8673 - val_loss: 0.3530 - val_accuracy: 0.8550\n",
      "Epoch 91/100\n",
      "536/536 [==============================] - 1s 2ms/step - loss: 0.3232 - accuracy: 0.8679 - val_loss: 0.3529 - val_accuracy: 0.8569\n",
      "Epoch 92/100\n",
      "536/536 [==============================] - 1s 2ms/step - loss: 0.3230 - accuracy: 0.8662 - val_loss: 0.3530 - val_accuracy: 0.8588\n",
      "Epoch 93/100\n",
      "536/536 [==============================] - 1s 2ms/step - loss: 0.3226 - accuracy: 0.8673 - val_loss: 0.3515 - val_accuracy: 0.8588\n",
      "Epoch 94/100\n",
      "536/536 [==============================] - 1s 2ms/step - loss: 0.3229 - accuracy: 0.8664 - val_loss: 0.3515 - val_accuracy: 0.8584\n",
      "Epoch 95/100\n",
      "536/536 [==============================] - 1s 2ms/step - loss: 0.3229 - accuracy: 0.8675 - val_loss: 0.3515 - val_accuracy: 0.8565\n",
      "Epoch 96/100\n",
      "536/536 [==============================] - 1s 2ms/step - loss: 0.3230 - accuracy: 0.8688 - val_loss: 0.3525 - val_accuracy: 0.8557\n",
      "Epoch 97/100\n",
      "536/536 [==============================] - 1s 2ms/step - loss: 0.3225 - accuracy: 0.8651 - val_loss: 0.3558 - val_accuracy: 0.8542\n",
      "Epoch 98/100\n",
      "536/536 [==============================] - 1s 2ms/step - loss: 0.3222 - accuracy: 0.8679 - val_loss: 0.3521 - val_accuracy: 0.8576\n",
      "Epoch 99/100\n",
      "536/536 [==============================] - 1s 2ms/step - loss: 0.3226 - accuracy: 0.8653 - val_loss: 0.3532 - val_accuracy: 0.8603\n",
      "Epoch 100/100\n",
      "536/536 [==============================] - 1s 2ms/step - loss: 0.3228 - accuracy: 0.8675 - val_loss: 0.3518 - val_accuracy: 0.8603\n"
     ]
    }
   ],
   "source": [
    "model_history = model.fit(X_train, y_train, batch_size = 10, epochs = 100,\n",
    "                         validation_split = 0.33)"
   ]
  },
  {
   "cell_type": "markdown",
   "id": "95ff8a7f",
   "metadata": {},
   "source": [
    "## Plotting the Graph"
   ]
  },
  {
   "cell_type": "code",
   "execution_count": 30,
   "id": "10418fec",
   "metadata": {},
   "outputs": [
    {
     "data": {
      "text/plain": [
       "dict_keys(['loss', 'accuracy', 'val_loss', 'val_accuracy'])"
      ]
     },
     "execution_count": 30,
     "metadata": {},
     "output_type": "execute_result"
    }
   ],
   "source": [
    "# list of all the data in history\n",
    "model_history.history.keys()"
   ]
  },
  {
   "cell_type": "code",
   "execution_count": 31,
   "id": "f1072a38",
   "metadata": {},
   "outputs": [
    {
     "data": {
      "image/png": "[encoded data removed]",
      "text/plain": [
       "<Figure size 432x288 with 1 Axes>"
      ]
     },
     "metadata": {
      "needs_background": "light"
     },
     "output_type": "display_data"
    }
   ],
   "source": [
    "plt.plot(model_history.history[\"accuracy\"])\n",
    "plt.plot(model_history.history[\"val_accuracy\"])\n",
    "plt.title(\"Model Accuracy vs. Validation Accuracy\")\n",
    "plt.xlabel(\"Epochs\")\n",
    "plt.ylabel(\"Accuracy\")\n",
    "plt.legend([\"train\", \"test\"])\n",
    "plt.show()"
   ]
  },
  {
   "cell_type": "code",
   "execution_count": 32,
   "id": "6892d5b5",
   "metadata": {},
   "outputs": [
    {
     "data": {
      "image/png": "[encoded data removed]",
      "text/plain": [
       "<Figure size 432x288 with 1 Axes>"
      ]
     },
     "metadata": {
      "needs_background": "light"
     },
     "output_type": "display_data"
    }
   ],
   "source": [
    "plt.plot(model_history.history[\"loss\"])\n",
    "plt.plot(model_history.history[\"val_loss\"])\n",
    "plt.title(\"Model Accuracy vs. Validation Accuracy\")\n",
    "plt.xlabel(\"Epochs\")\n",
    "plt.ylabel(\"Accuracy\")\n",
    "plt.legend([\"train\", \"test\"])\n",
    "plt.show()"
   ]
  },
  {
   "cell_type": "markdown",
   "id": "4ad5ce02",
   "metadata": {},
   "source": [
    "## Testing and Evaluation"
   ]
  },
  {
   "cell_type": "code",
   "execution_count": 33,
   "id": "484bd761",
   "metadata": {},
   "outputs": [
    {
     "name": "stdout",
     "output_type": "stream",
     "text": [
      "63/63 [==============================] - 0s 1ms/step\n"
     ]
    },
    {
     "data": {
      "text/plain": [
       "array([[0.2754901 ],\n",
       "       [0.3582838 ],\n",
       "       [0.09908756],\n",
       "       ...,\n",
       "       [0.2636934 ],\n",
       "       [0.1875937 ],\n",
       "       [0.16305959]], dtype=float32)"
      ]
     },
     "execution_count": 33,
     "metadata": {},
     "output_type": "execute_result"
    }
   ],
   "source": [
    "y_pred = model.predict(X_test)\n",
    "y_pred"
   ]
  },
  {
   "cell_type": "code",
   "execution_count": 34,
   "id": "665d7a9d",
   "metadata": {},
   "outputs": [
    {
     "data": {
      "text/plain": [
       "array([[False],\n",
       "       [False],\n",
       "       [False],\n",
       "       ...,\n",
       "       [False],\n",
       "       [False],\n",
       "       [False]])"
      ]
     },
     "execution_count": 34,
     "metadata": {},
     "output_type": "execute_result"
    }
   ],
   "source": [
    "y_pred = (y_pred > 0.5)\n",
    "y_pred"
   ]
  },
  {
   "cell_type": "code",
   "execution_count": 44,
   "id": "329307ce",
   "metadata": {},
   "outputs": [
    {
     "data": {
      "text/plain": [
       "<AxesSubplot:>"
      ]
     },
     "execution_count": 44,
     "metadata": {},
     "output_type": "execute_result"
    },
    {
     "data": {
      "image/png": "[encoded data removed]",
      "text/plain": [
       "<Figure size 432x288 with 2 Axes>"
      ]
     },
     "metadata": {
      "needs_background": "light"
     },
     "output_type": "display_data"
    }
   ],
   "source": [
    "cm = confusion_matrix(y_test, y_pred)\n",
    "sns.heatmap(cm, annot=True, fmt=\".4g\")"
   ]
  },
  {
   "cell_type": "code",
   "execution_count": 46,
   "id": "c33d7195",
   "metadata": {},
   "outputs": [
    {
     "data": {
      "text/plain": [
       "0.855"
      ]
     },
     "execution_count": 46,
     "metadata": {},
     "output_type": "execute_result"
    }
   ],
   "source": [
    "score = accuracy_score(y_test, y_pred)\n",
    "score"
   ]
  },
  {
   "cell_type": "markdown",
   "id": "b652150e",
   "metadata": {},
   "source": [
    "## Alternate method with Dropout layers"
   ]
  },
  {
   "cell_type": "code",
   "execution_count": 47,
   "id": "1ec3d342",
   "metadata": {},
   "outputs": [],
   "source": [
    "model_2 = Sequential()\n",
    "\n",
    "# Adding the first hidden layer and passing inputs \n",
    "model_2.add(Dense(units = 10, kernel_initializer = \"he_normal\", activation = \"relu\", input_dim = 11))\n",
    "model_2.add(Dropout(0.3))\n",
    "\n",
    "# Adding second hidden layer\n",
    "model_2.add(Dense(units = 20, kernel_initializer = \"he_normal\", activation = \"relu\"))\n",
    "model_2.add(Dropout(0.4))\n",
    "\n",
    "# Adding a third layer\n",
    "model_2.add(Dense(units = 15, kernel_initializer = \"he_normal\", activation = \"relu\"))\n",
    "model_2.add(Dropout(0.2))\n",
    "\n",
    "# Adding the output layer\n",
    "model_2.add(Dense(units = 1, kernel_initializer = \"glorot_uniform\", activation = \"sigmoid\"))"
   ]
  },
  {
   "cell_type": "code",
   "execution_count": 48,
   "id": "0dbd565d",
   "metadata": {},
   "outputs": [
    {
     "name": "stdout",
     "output_type": "stream",
     "text": [
      "Model: \"sequential_1\"\n",
      "_________________________________________________________________\n",
      " Layer (type)                Output Shape              Param #   \n",
      "=================================================================\n",
      " dense_3 (Dense)             (None, 10)                120       \n",
      "                                                                 \n",
      " dropout (Dropout)           (None, 10)                0         \n",
      "                                                                 \n",
      " dense_4 (Dense)             (None, 20)                220       \n",
      "                                                                 \n",
      " dropout_1 (Dropout)         (None, 20)                0         \n",
      "                                                                 \n",
      " dense_5 (Dense)             (None, 15)                315       \n",
      "                                                                 \n",
      " dropout_2 (Dropout)         (None, 15)                0         \n",
      "                                                                 \n",
      " dense_6 (Dense)             (None, 1)                 16        \n",
      "                                                                 \n",
      "=================================================================\n",
      "Total params: 671\n",
      "Trainable params: 671\n",
      "Non-trainable params: 0\n",
      "_________________________________________________________________\n"
     ]
    }
   ],
   "source": [
    "model_2.summary()"
   ]
  },
  {
   "cell_type": "code",
   "execution_count": 50,
   "id": "107fda88",
   "metadata": {},
   "outputs": [],
   "source": [
    "model_2.compile(optimizer=\"adam\", \n",
    "              loss=\"binary_crossentropy\", \n",
    "              metrics=[\"accuracy\"])"
   ]
  },
  {
   "cell_type": "code",
   "execution_count": 51,
   "id": "840051ac",
   "metadata": {},
   "outputs": [
    {
     "name": "stdout",
     "output_type": "stream",
     "text": [
      "Epoch 1/100\n",
      "536/536 [==============================] - 2s 3ms/step - loss: 0.6341 - accuracy: 0.6973 - val_loss: 0.4910 - val_accuracy: 0.7955\n",
      "Epoch 2/100\n",
      "536/536 [==============================] - 1s 2ms/step - loss: 0.5136 - accuracy: 0.7897 - val_loss: 0.4643 - val_accuracy: 0.7955\n",
      "Epoch 3/100\n",
      "536/536 [==============================] - 1s 2ms/step - loss: 0.4895 - accuracy: 0.7972 - val_loss: 0.4533 - val_accuracy: 0.7974\n",
      "Epoch 4/100\n",
      "536/536 [==============================] - 1s 2ms/step - loss: 0.4748 - accuracy: 0.8001 - val_loss: 0.4492 - val_accuracy: 0.7978\n",
      "Epoch 5/100\n",
      "536/536 [==============================] - 1s 2ms/step - loss: 0.4637 - accuracy: 0.7979 - val_loss: 0.4390 - val_accuracy: 0.8016\n",
      "Epoch 6/100\n",
      "536/536 [==============================] - 1s 2ms/step - loss: 0.4595 - accuracy: 0.8024 - val_loss: 0.4364 - val_accuracy: 0.8035\n",
      "Epoch 7/100\n",
      "536/536 [==============================] - 1s 2ms/step - loss: 0.4542 - accuracy: 0.8048 - val_loss: 0.4343 - val_accuracy: 0.8046\n",
      "Epoch 8/100\n",
      "536/536 [==============================] - 1s 2ms/step - loss: 0.4480 - accuracy: 0.8059 - val_loss: 0.4320 - val_accuracy: 0.8008\n",
      "Epoch 9/100\n",
      "536/536 [==============================] - 1s 2ms/step - loss: 0.4417 - accuracy: 0.8048 - val_loss: 0.4262 - val_accuracy: 0.8058\n",
      "Epoch 10/100\n",
      "536/536 [==============================] - 1s 2ms/step - loss: 0.4424 - accuracy: 0.8024 - val_loss: 0.4210 - val_accuracy: 0.8039\n",
      "Epoch 11/100\n",
      "536/536 [==============================] - 1s 2ms/step - loss: 0.4359 - accuracy: 0.8104 - val_loss: 0.4223 - val_accuracy: 0.8027\n",
      "Epoch 12/100\n",
      "536/536 [==============================] - 1s 2ms/step - loss: 0.4291 - accuracy: 0.8149 - val_loss: 0.4160 - val_accuracy: 0.8152\n",
      "Epoch 13/100\n",
      "536/536 [==============================] - 1s 2ms/step - loss: 0.4303 - accuracy: 0.8095 - val_loss: 0.4147 - val_accuracy: 0.8103\n",
      "Epoch 14/100\n",
      "536/536 [==============================] - 1s 2ms/step - loss: 0.4316 - accuracy: 0.8117 - val_loss: 0.4173 - val_accuracy: 0.8073\n",
      "Epoch 15/100\n",
      "536/536 [==============================] - 1s 2ms/step - loss: 0.4273 - accuracy: 0.8123 - val_loss: 0.4110 - val_accuracy: 0.8167\n",
      "Epoch 16/100\n",
      "536/536 [==============================] - 1s 2ms/step - loss: 0.4222 - accuracy: 0.8190 - val_loss: 0.4078 - val_accuracy: 0.8201\n",
      "Epoch 17/100\n",
      "536/536 [==============================] - 1s 2ms/step - loss: 0.4242 - accuracy: 0.8177 - val_loss: 0.4065 - val_accuracy: 0.8205\n",
      "Epoch 18/100\n",
      "536/536 [==============================] - 1s 2ms/step - loss: 0.4159 - accuracy: 0.8222 - val_loss: 0.4026 - val_accuracy: 0.8228\n",
      "Epoch 19/100\n",
      "536/536 [==============================] - 1s 2ms/step - loss: 0.4192 - accuracy: 0.8184 - val_loss: 0.4032 - val_accuracy: 0.8201\n",
      "Epoch 20/100\n",
      "536/536 [==============================] - 1s 2ms/step - loss: 0.4127 - accuracy: 0.8244 - val_loss: 0.3987 - val_accuracy: 0.8224\n",
      "Epoch 21/100\n",
      "536/536 [==============================] - 1s 2ms/step - loss: 0.4126 - accuracy: 0.8224 - val_loss: 0.3953 - val_accuracy: 0.8270\n",
      "Epoch 22/100\n",
      "536/536 [==============================] - 1s 2ms/step - loss: 0.4060 - accuracy: 0.8250 - val_loss: 0.3926 - val_accuracy: 0.8296\n",
      "Epoch 23/100\n",
      "536/536 [==============================] - 1s 2ms/step - loss: 0.4001 - accuracy: 0.8317 - val_loss: 0.3885 - val_accuracy: 0.8281\n",
      "Epoch 24/100\n",
      "536/536 [==============================] - 1s 2ms/step - loss: 0.3963 - accuracy: 0.8302 - val_loss: 0.3848 - val_accuracy: 0.8345\n",
      "Epoch 25/100\n",
      "536/536 [==============================] - 1s 2ms/step - loss: 0.3990 - accuracy: 0.8304 - val_loss: 0.3868 - val_accuracy: 0.8289\n",
      "Epoch 26/100\n",
      "536/536 [==============================] - 1s 2ms/step - loss: 0.3934 - accuracy: 0.8313 - val_loss: 0.3802 - val_accuracy: 0.8398\n",
      "Epoch 27/100\n",
      "536/536 [==============================] - 1s 2ms/step - loss: 0.3946 - accuracy: 0.8339 - val_loss: 0.3823 - val_accuracy: 0.8330\n",
      "Epoch 28/100\n",
      "536/536 [==============================] - 1s 2ms/step - loss: 0.3976 - accuracy: 0.8330 - val_loss: 0.3815 - val_accuracy: 0.8391\n",
      "Epoch 29/100\n",
      "536/536 [==============================] - 1s 2ms/step - loss: 0.3972 - accuracy: 0.8343 - val_loss: 0.3830 - val_accuracy: 0.8323\n",
      "Epoch 30/100\n",
      "536/536 [==============================] - 1s 2ms/step - loss: 0.3974 - accuracy: 0.8289 - val_loss: 0.3800 - val_accuracy: 0.8311\n",
      "Epoch 31/100\n",
      "536/536 [==============================] - 1s 2ms/step - loss: 0.3900 - accuracy: 0.8390 - val_loss: 0.3803 - val_accuracy: 0.8387\n",
      "Epoch 32/100\n",
      "536/536 [==============================] - 1s 2ms/step - loss: 0.3914 - accuracy: 0.8330 - val_loss: 0.3759 - val_accuracy: 0.8421\n",
      "Epoch 33/100\n",
      "536/536 [==============================] - 1s 2ms/step - loss: 0.3872 - accuracy: 0.8380 - val_loss: 0.3739 - val_accuracy: 0.8391\n",
      "Epoch 34/100\n",
      "536/536 [==============================] - 1s 2ms/step - loss: 0.3867 - accuracy: 0.8354 - val_loss: 0.3758 - val_accuracy: 0.8379\n",
      "Epoch 35/100\n",
      "536/536 [==============================] - 1s 2ms/step - loss: 0.3891 - accuracy: 0.8384 - val_loss: 0.3760 - val_accuracy: 0.8345\n",
      "Epoch 36/100\n",
      "536/536 [==============================] - 1s 2ms/step - loss: 0.3818 - accuracy: 0.8380 - val_loss: 0.3711 - val_accuracy: 0.8406\n",
      "Epoch 37/100\n",
      "536/536 [==============================] - 1s 2ms/step - loss: 0.3850 - accuracy: 0.8375 - val_loss: 0.3702 - val_accuracy: 0.8436\n",
      "Epoch 38/100\n",
      "536/536 [==============================] - 1s 2ms/step - loss: 0.3872 - accuracy: 0.8397 - val_loss: 0.3748 - val_accuracy: 0.8353\n",
      "Epoch 39/100\n",
      "536/536 [==============================] - 1s 2ms/step - loss: 0.3888 - accuracy: 0.8356 - val_loss: 0.3722 - val_accuracy: 0.8417\n",
      "Epoch 40/100\n",
      "536/536 [==============================] - 1s 2ms/step - loss: 0.3876 - accuracy: 0.8419 - val_loss: 0.3713 - val_accuracy: 0.8466\n",
      "Epoch 41/100\n",
      "536/536 [==============================] - 1s 2ms/step - loss: 0.3798 - accuracy: 0.8425 - val_loss: 0.3687 - val_accuracy: 0.8429\n",
      "Epoch 42/100\n",
      "536/536 [==============================] - 1s 2ms/step - loss: 0.3894 - accuracy: 0.8390 - val_loss: 0.3709 - val_accuracy: 0.8417\n",
      "Epoch 43/100\n",
      "536/536 [==============================] - 1s 2ms/step - loss: 0.3839 - accuracy: 0.8391 - val_loss: 0.3734 - val_accuracy: 0.8413\n",
      "Epoch 44/100\n",
      "536/536 [==============================] - 1s 2ms/step - loss: 0.3777 - accuracy: 0.8436 - val_loss: 0.3716 - val_accuracy: 0.8379\n",
      "Epoch 45/100\n",
      "536/536 [==============================] - 1s 2ms/step - loss: 0.3801 - accuracy: 0.8412 - val_loss: 0.3713 - val_accuracy: 0.8429\n",
      "Epoch 46/100\n",
      "536/536 [==============================] - 1s 2ms/step - loss: 0.3776 - accuracy: 0.8442 - val_loss: 0.3687 - val_accuracy: 0.8478\n",
      "Epoch 47/100\n",
      "536/536 [==============================] - 1s 2ms/step - loss: 0.3810 - accuracy: 0.8410 - val_loss: 0.3736 - val_accuracy: 0.8448\n",
      "Epoch 48/100\n",
      "536/536 [==============================] - 1s 2ms/step - loss: 0.3787 - accuracy: 0.8403 - val_loss: 0.3701 - val_accuracy: 0.8444\n",
      "Epoch 49/100\n",
      "536/536 [==============================] - 1s 2ms/step - loss: 0.3809 - accuracy: 0.8371 - val_loss: 0.3718 - val_accuracy: 0.8451\n",
      "Epoch 50/100\n",
      "536/536 [==============================] - 1s 2ms/step - loss: 0.3815 - accuracy: 0.8378 - val_loss: 0.3719 - val_accuracy: 0.8360\n",
      "Epoch 51/100\n",
      "536/536 [==============================] - 1s 2ms/step - loss: 0.3770 - accuracy: 0.8447 - val_loss: 0.3671 - val_accuracy: 0.8482\n",
      "Epoch 52/100\n",
      "536/536 [==============================] - 1s 2ms/step - loss: 0.3855 - accuracy: 0.8414 - val_loss: 0.3676 - val_accuracy: 0.8444\n",
      "Epoch 53/100\n",
      "536/536 [==============================] - 1s 2ms/step - loss: 0.3796 - accuracy: 0.8418 - val_loss: 0.3673 - val_accuracy: 0.8444\n",
      "Epoch 54/100\n",
      "536/536 [==============================] - 1s 2ms/step - loss: 0.3750 - accuracy: 0.8446 - val_loss: 0.3668 - val_accuracy: 0.8463\n",
      "Epoch 55/100\n",
      "536/536 [==============================] - 1s 2ms/step - loss: 0.3771 - accuracy: 0.8457 - val_loss: 0.3691 - val_accuracy: 0.8448\n",
      "Epoch 56/100\n",
      "536/536 [==============================] - 1s 2ms/step - loss: 0.3803 - accuracy: 0.8429 - val_loss: 0.3667 - val_accuracy: 0.8463\n",
      "Epoch 57/100\n",
      "536/536 [==============================] - 1s 2ms/step - loss: 0.3785 - accuracy: 0.8406 - val_loss: 0.3660 - val_accuracy: 0.8455\n"
     ]
    },
    {
     "name": "stdout",
     "output_type": "stream",
     "text": [
      "Epoch 58/100\n",
      "536/536 [==============================] - 1s 2ms/step - loss: 0.3805 - accuracy: 0.8377 - val_loss: 0.3660 - val_accuracy: 0.8466\n",
      "Epoch 59/100\n",
      "536/536 [==============================] - 1s 2ms/step - loss: 0.3688 - accuracy: 0.8472 - val_loss: 0.3670 - val_accuracy: 0.8448\n",
      "Epoch 60/100\n",
      "536/536 [==============================] - 1s 2ms/step - loss: 0.3812 - accuracy: 0.8412 - val_loss: 0.3683 - val_accuracy: 0.8432\n",
      "Epoch 61/100\n",
      "536/536 [==============================] - 1s 2ms/step - loss: 0.3777 - accuracy: 0.8395 - val_loss: 0.3681 - val_accuracy: 0.8406\n",
      "Epoch 62/100\n",
      "536/536 [==============================] - 1s 2ms/step - loss: 0.3776 - accuracy: 0.8451 - val_loss: 0.3662 - val_accuracy: 0.8436\n",
      "Epoch 63/100\n",
      "536/536 [==============================] - 1s 2ms/step - loss: 0.3794 - accuracy: 0.8418 - val_loss: 0.3670 - val_accuracy: 0.8410\n",
      "Epoch 64/100\n",
      "536/536 [==============================] - 1s 2ms/step - loss: 0.3774 - accuracy: 0.8453 - val_loss: 0.3675 - val_accuracy: 0.8463\n",
      "Epoch 65/100\n",
      "536/536 [==============================] - 1s 2ms/step - loss: 0.3752 - accuracy: 0.8438 - val_loss: 0.3655 - val_accuracy: 0.8474\n",
      "Epoch 66/100\n",
      "536/536 [==============================] - 1s 2ms/step - loss: 0.3792 - accuracy: 0.8412 - val_loss: 0.3632 - val_accuracy: 0.8478\n",
      "Epoch 67/100\n",
      "536/536 [==============================] - 1s 2ms/step - loss: 0.3714 - accuracy: 0.8474 - val_loss: 0.3651 - val_accuracy: 0.8463\n",
      "Epoch 68/100\n",
      "536/536 [==============================] - 1s 2ms/step - loss: 0.3834 - accuracy: 0.8397 - val_loss: 0.3672 - val_accuracy: 0.8448\n",
      "Epoch 69/100\n",
      "536/536 [==============================] - 1s 2ms/step - loss: 0.3798 - accuracy: 0.8483 - val_loss: 0.3651 - val_accuracy: 0.8455\n",
      "Epoch 70/100\n",
      "536/536 [==============================] - 1s 2ms/step - loss: 0.3802 - accuracy: 0.8431 - val_loss: 0.3671 - val_accuracy: 0.8436\n",
      "Epoch 71/100\n",
      "536/536 [==============================] - 1s 2ms/step - loss: 0.3772 - accuracy: 0.8477 - val_loss: 0.3649 - val_accuracy: 0.8455\n",
      "Epoch 72/100\n",
      "536/536 [==============================] - 1s 2ms/step - loss: 0.3751 - accuracy: 0.8433 - val_loss: 0.3683 - val_accuracy: 0.8459\n",
      "Epoch 73/100\n",
      "536/536 [==============================] - 1s 2ms/step - loss: 0.3806 - accuracy: 0.8421 - val_loss: 0.3690 - val_accuracy: 0.8413\n",
      "Epoch 74/100\n",
      "536/536 [==============================] - 1s 2ms/step - loss: 0.3777 - accuracy: 0.8419 - val_loss: 0.3702 - val_accuracy: 0.8425\n",
      "Epoch 75/100\n",
      "536/536 [==============================] - 1s 2ms/step - loss: 0.3750 - accuracy: 0.8451 - val_loss: 0.3663 - val_accuracy: 0.8466\n",
      "Epoch 76/100\n",
      "536/536 [==============================] - 1s 2ms/step - loss: 0.3767 - accuracy: 0.8457 - val_loss: 0.3680 - val_accuracy: 0.8451\n",
      "Epoch 77/100\n",
      "536/536 [==============================] - 1s 2ms/step - loss: 0.3835 - accuracy: 0.8369 - val_loss: 0.3668 - val_accuracy: 0.8448\n",
      "Epoch 78/100\n",
      "536/536 [==============================] - 1s 2ms/step - loss: 0.3765 - accuracy: 0.8457 - val_loss: 0.3678 - val_accuracy: 0.8455\n",
      "Epoch 79/100\n",
      "536/536 [==============================] - 1s 2ms/step - loss: 0.3668 - accuracy: 0.8468 - val_loss: 0.3637 - val_accuracy: 0.8459\n",
      "Epoch 80/100\n",
      "536/536 [==============================] - 1s 2ms/step - loss: 0.3734 - accuracy: 0.8442 - val_loss: 0.3673 - val_accuracy: 0.8466\n",
      "Epoch 81/100\n",
      "536/536 [==============================] - 1s 2ms/step - loss: 0.3737 - accuracy: 0.8440 - val_loss: 0.3649 - val_accuracy: 0.8470\n",
      "Epoch 82/100\n",
      "536/536 [==============================] - 1s 2ms/step - loss: 0.3767 - accuracy: 0.8434 - val_loss: 0.3673 - val_accuracy: 0.8455\n",
      "Epoch 83/100\n",
      "536/536 [==============================] - 1s 2ms/step - loss: 0.3772 - accuracy: 0.8444 - val_loss: 0.3721 - val_accuracy: 0.8402\n",
      "Epoch 84/100\n",
      "536/536 [==============================] - 1s 2ms/step - loss: 0.3717 - accuracy: 0.8442 - val_loss: 0.3639 - val_accuracy: 0.8455\n",
      "Epoch 85/100\n",
      "536/536 [==============================] - 1s 2ms/step - loss: 0.3739 - accuracy: 0.8459 - val_loss: 0.3628 - val_accuracy: 0.8466\n",
      "Epoch 86/100\n",
      "536/536 [==============================] - 1s 2ms/step - loss: 0.3746 - accuracy: 0.8433 - val_loss: 0.3670 - val_accuracy: 0.8463\n",
      "Epoch 87/100\n",
      "536/536 [==============================] - 1s 2ms/step - loss: 0.3727 - accuracy: 0.8466 - val_loss: 0.3652 - val_accuracy: 0.8451\n",
      "Epoch 88/100\n",
      "536/536 [==============================] - 1s 2ms/step - loss: 0.3736 - accuracy: 0.8429 - val_loss: 0.3630 - val_accuracy: 0.8463\n",
      "Epoch 89/100\n",
      "536/536 [==============================] - 1s 2ms/step - loss: 0.3765 - accuracy: 0.8442 - val_loss: 0.3690 - val_accuracy: 0.8376\n",
      "Epoch 90/100\n",
      "536/536 [==============================] - 1s 2ms/step - loss: 0.3739 - accuracy: 0.8433 - val_loss: 0.3645 - val_accuracy: 0.8432\n",
      "Epoch 91/100\n",
      "536/536 [==============================] - 1s 2ms/step - loss: 0.3655 - accuracy: 0.8466 - val_loss: 0.3594 - val_accuracy: 0.8482\n",
      "Epoch 92/100\n",
      "536/536 [==============================] - 1s 2ms/step - loss: 0.3700 - accuracy: 0.8468 - val_loss: 0.3666 - val_accuracy: 0.8360\n",
      "Epoch 93/100\n",
      "536/536 [==============================] - 1s 2ms/step - loss: 0.3740 - accuracy: 0.8436 - val_loss: 0.3646 - val_accuracy: 0.8478\n",
      "Epoch 94/100\n",
      "536/536 [==============================] - 1s 2ms/step - loss: 0.3729 - accuracy: 0.8447 - val_loss: 0.3637 - val_accuracy: 0.8429\n",
      "Epoch 95/100\n",
      "536/536 [==============================] - 1s 2ms/step - loss: 0.3803 - accuracy: 0.8431 - val_loss: 0.3671 - val_accuracy: 0.8436\n",
      "Epoch 96/100\n",
      "536/536 [==============================] - 1s 2ms/step - loss: 0.3737 - accuracy: 0.8455 - val_loss: 0.3651 - val_accuracy: 0.8444\n",
      "Epoch 97/100\n",
      "536/536 [==============================] - 1s 2ms/step - loss: 0.3701 - accuracy: 0.8474 - val_loss: 0.3680 - val_accuracy: 0.8376\n",
      "Epoch 98/100\n",
      "536/536 [==============================] - 1s 2ms/step - loss: 0.3712 - accuracy: 0.8466 - val_loss: 0.3649 - val_accuracy: 0.8436\n",
      "Epoch 99/100\n",
      "536/536 [==============================] - 1s 2ms/step - loss: 0.3763 - accuracy: 0.8401 - val_loss: 0.3671 - val_accuracy: 0.8463\n",
      "Epoch 100/100\n",
      "536/536 [==============================] - 1s 2ms/step - loss: 0.3722 - accuracy: 0.8461 - val_loss: 0.3674 - val_accuracy: 0.8436\n"
     ]
    }
   ],
   "source": [
    "model_2_history = model_2.fit(X_train, y_train, batch_size = 10, epochs = 100,\n",
    "                         validation_split = 0.33)"
   ]
  },
  {
   "cell_type": "code",
   "execution_count": 52,
   "id": "219400df",
   "metadata": {},
   "outputs": [
    {
     "name": "stdout",
     "output_type": "stream",
     "text": [
      "63/63 [==============================] - 0s 1ms/step\n"
     ]
    },
    {
     "data": {
      "text/plain": [
       "0.8615"
      ]
     },
     "execution_count": 52,
     "metadata": {},
     "output_type": "execute_result"
    }
   ],
   "source": [
    "y_pred_2 = model_2.predict(X_test)\n",
    "y_pred_2 = (y_pred_2 > 0.5)\n",
    "\n",
    "score = accuracy_score(y_test, y_pred_2)\n",
    "score"
   ]
  }
 ],
 "metadata": {
  "kernelspec": {
   "display_name": "Python 3",
   "language": "python",
   "name": "python3"
  },
  "language_info": {
   "codemirror_mode": {
    "name": "ipython",
    "version": 3
   },
   "file_extension": ".py",
   "mimetype": "text/x-python",
   "name": "python",
   "nbconvert_exporter": "python",
   "pygments_lexer": "ipython3",
   "version": "3.9.5"
  }
 },
 "nbformat": 4,
 "nbformat_minor": 5
}
